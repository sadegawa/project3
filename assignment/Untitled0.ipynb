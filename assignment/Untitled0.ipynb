{
  "nbformat": 4,
  "nbformat_minor": 0,
  "metadata": {
    "colab": {
      "name": "Untitled0.ipynb",
      "provenance": []
    },
    "kernelspec": {
      "name": "python3",
      "display_name": "Python 3"
    },
    "language_info": {
      "name": "python"
    }
  },
  "cells": [
    {
      "cell_type": "code",
      "metadata": {
        "colab": {
          "base_uri": "https://localhost:8080/"
        },
        "id": "PMA6-uV563CV",
        "outputId": "0ab98495-e386-4841-ee12-9730b73c3a52"
      },
      "source": [
        "#........ and shoot for the Sky in you getting a big promotion & opportunity\n",
        "#SamsonAdegawa\n",
        "(\"Samson Adegawa:\")\n",
        "fname = input(\"fname\") #Samson\n",
        "lname = input(\"lname\")#Adegawa\n",
        "fullnames = fname + \" \" + lname\n",
        "\n",
        "#Enter phone, email\n",
        "print(\"+2404131378\")\n",
        "phone = input(\"phone\")\n",
        "print(\"samsonadegawa@gmail.com\")\n",
        "email = input(\"email\")\n",
        "\n",
        "#price of a used car\n",
        "price = 10000\n",
        "has_good_credit = True;\n",
        "\n",
        "if has_good_credit:\n",
        "    down_payment = 0.1 * 10000\n",
        "else:\n",
        "    down_payment = 0.2 * 10000\n",
        "\n",
        "print(\"0.1 * 10000{0.1* 10000}\")\n",
        "print('')\n",
        "print(\"Samson Adegawa\")\n",
        "print(\"+2404131378\")\n",
        "print(\"samsonadegawa@gmail.com\")\n",
        "print(1000)"
      ],
      "execution_count": 8,
      "outputs": [
        {
          "output_type": "stream",
          "text": [
            "fnameSamson\n",
            "lnameAdegawa\n",
            "+2404131378\n",
            "phone 2404131378\n",
            "samsonadegawa@gmail.com\n",
            "emailsamsonadegawa@gmail.com\n",
            "0.1 * 10000{0.1* 10000}\n",
            "\n",
            "Samson Adegawa\n",
            "+2404131378\n",
            "samsonadegawa@gmail.com\n",
            "1000\n"
          ],
          "name": "stdout"
        }
      ]
    }
  ]
}